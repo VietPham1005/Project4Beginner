{
  "nbformat": 4,
  "nbformat_minor": 0,
  "metadata": {
    "colab": {
      "provenance": [],
      "authorship_tag": "ABX9TyMLgBVx5dcLfts/qkq9zecl",
      "include_colab_link": true
    },
    "kernelspec": {
      "name": "python3",
      "display_name": "Python 3"
    },
    "language_info": {
      "name": "python"
    }
  },
  "cells": [
    {
      "cell_type": "markdown",
      "metadata": {
        "id": "view-in-github",
        "colab_type": "text"
      },
      "source": [
        "<a href=\"https://colab.research.google.com/github/VietPham1005/Project4Beginner/blob/main/Email_Slicer.ipynb\" target=\"_parent\"><img src=\"https://colab.research.google.com/assets/colab-badge.svg\" alt=\"Open In Colab\"/></a>"
      ]
    },
    {
      "cell_type": "code",
      "execution_count": 1,
      "metadata": {
        "colab": {
          "base_uri": "https://localhost:8080/"
        },
        "id": "BX885qvoDvd2",
        "outputId": "ff7465a0-26c8-4170-fa40-bfe75d3b6245"
      },
      "outputs": [
        {
          "output_type": "stream",
          "name": "stdout",
          "text": [
            "Enter Your Email: phamquocviet1005@gmail.com\n",
            "Your username is phamquocviet1005 & domain is gmail.com\n"
          ]
        }
      ],
      "source": [
        "email = input(\"Enter Your Email: \").strip()\n",
        "\n",
        "username = email[:email.index('@')]\n",
        "domain = email[email.index('@') + 1:]\n",
        "\n",
        "print(f\"Your username is {username} & domain is {domain}\")"
      ]
    }
  ]
}